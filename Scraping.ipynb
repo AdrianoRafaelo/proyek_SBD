{
  "nbformat": 4,
  "nbformat_minor": 0,
  "metadata": {
    "colab": {
      "provenance": []
    },
    "kernelspec": {
      "name": "python3",
      "display_name": "Python 3"
    },
    "language_info": {
      "name": "python"
    }
  },
  "cells": [
    {
      "cell_type": "code",
      "execution_count": 1,
      "metadata": {
        "id": "97hPMdOjZtsg",
        "colab": {
          "base_uri": "https://localhost:8080/",
          "height": 260
        },
        "outputId": "682e38d7-f21c-4dbe-cec7-e5a9e8b4810b"
      },
      "outputs": [
        {
          "output_type": "stream",
          "name": "stdout",
          "text": [
            "                                               Place  \\\n",
            "0  10 Rekomendasi Tempat Wisata Sumut 2024, Cocok...   \n",
            "1  Pulau Samosir\\nPulau Samosir\\nPulau Samosir ad...   \n",
            "2                                      Pulau Samosir   \n",
            "3  Istana Maimun\\nIstana Maimoon\\n\\nIstana Maimun...   \n",
            "4                                      Istana Maimun   \n",
            "\n",
            "                                           Image URL  \n",
            "0  https://i0.wp.com/umsu.ac.id/berita/wp-content...  \n",
            "1  https://i0.wp.com/umsu.ac.id/berita/wp-content...  \n",
            "2  https://i0.wp.com/umsu.ac.id/berita/wp-content...  \n",
            "3  https://i0.wp.com/umsu.ac.id/berita/wp-content...  \n",
            "4  https://i0.wp.com/umsu.ac.id/berita/wp-content...  \n",
            "Data berhasil disimpan ke tempat_wisata_sumut_umsu_with_images.csv\n"
          ]
        },
        {
          "output_type": "display_data",
          "data": {
            "text/plain": [
              "<IPython.core.display.Javascript object>"
            ],
            "application/javascript": [
              "\n",
              "    async function download(id, filename, size) {\n",
              "      if (!google.colab.kernel.accessAllowed) {\n",
              "        return;\n",
              "      }\n",
              "      const div = document.createElement('div');\n",
              "      const label = document.createElement('label');\n",
              "      label.textContent = `Downloading \"${filename}\": `;\n",
              "      div.appendChild(label);\n",
              "      const progress = document.createElement('progress');\n",
              "      progress.max = size;\n",
              "      div.appendChild(progress);\n",
              "      document.body.appendChild(div);\n",
              "\n",
              "      const buffers = [];\n",
              "      let downloaded = 0;\n",
              "\n",
              "      const channel = await google.colab.kernel.comms.open(id);\n",
              "      // Send a message to notify the kernel that we're ready.\n",
              "      channel.send({})\n",
              "\n",
              "      for await (const message of channel.messages) {\n",
              "        // Send a message to notify the kernel that we're ready.\n",
              "        channel.send({})\n",
              "        if (message.buffers) {\n",
              "          for (const buffer of message.buffers) {\n",
              "            buffers.push(buffer);\n",
              "            downloaded += buffer.byteLength;\n",
              "            progress.value = downloaded;\n",
              "          }\n",
              "        }\n",
              "      }\n",
              "      const blob = new Blob(buffers, {type: 'application/binary'});\n",
              "      const a = document.createElement('a');\n",
              "      a.href = window.URL.createObjectURL(blob);\n",
              "      a.download = filename;\n",
              "      div.appendChild(a);\n",
              "      a.click();\n",
              "      div.remove();\n",
              "    }\n",
              "  "
            ]
          },
          "metadata": {}
        },
        {
          "output_type": "display_data",
          "data": {
            "text/plain": [
              "<IPython.core.display.Javascript object>"
            ],
            "application/javascript": [
              "download(\"download_2c2b33fb-f8f3-4afb-b4c2-dfd7dffe9f42\", \"tempat_wisata_sumut_umsu_with_images.csv\", 5748)"
            ]
          },
          "metadata": {}
        }
      ],
      "source": [
        "import requests\n",
        "from bs4 import BeautifulSoup\n",
        "import pandas as pd\n",
        "from google.colab import files\n",
        "\n",
        "# --- Web Scraping ---\n",
        "url = 'https://umsu.ac.id/berita/10-rekomendasi-tempat-wisata-sumut-2024-cocok-untuk-libur-lebaran-bersama-keluarga/'\n",
        "headers = {\n",
        "    'User-Agent': 'Mozilla/5.0 (Windows NT 10.0; Win64; x64) AppleWebKit/537.36 (KHTML, like Gecko) Chrome/91.0.4472.124 Safari/537.36'\n",
        "}\n",
        "\n",
        "response = requests.get(url, headers=headers)\n",
        "\n",
        "if response.status_code == 200:\n",
        "    soup = BeautifulSoup(response.text, 'html.parser')\n",
        "\n",
        "    # Identifikasi elemen konten artikel\n",
        "    article_content = soup.find('div', class_='entry-content')  # Sesuaikan dengan struktur HTML halaman\n",
        "    if article_content:\n",
        "        # Ambil elemen yang berisi tempat wisata (judul dan gambar)\n",
        "        data = []\n",
        "\n",
        "        for item in article_content.find_all(['h2', 'h3', 'li']):  # Cari judul tempat wisata\n",
        "            title = item.text.strip()\n",
        "            # Cari gambar di sekitar elemen ini\n",
        "            image = item.find_next('img')\n",
        "            image_url = image['src'] if image else 'No image available'\n",
        "\n",
        "            if title:  # Hindari data kosong\n",
        "                data.append({'Place': title, 'Image URL': image_url})\n",
        "\n",
        "        # Buat DataFrame\n",
        "        df = pd.DataFrame(data)\n",
        "\n",
        "        if not df.empty:\n",
        "            print(df.head())  # Tampilkan beberapa data\n",
        "\n",
        "            # Simpan ke CSV\n",
        "            df.to_csv('tempat_wisata_sumut_umsu_with_images.csv', index=False)\n",
        "            print(\"Data berhasil disimpan ke tempat_wisata_sumut_umsu_with_images.csv\")\n",
        "\n",
        "            # Unduh file CSV\n",
        "            files.download('tempat_wisata_sumut_umsu_with_images.csv')\n",
        "        else:\n",
        "            print(\"Tidak ada data yang ditemukan.\")\n",
        "    else:\n",
        "        print(\"Tidak dapat menemukan elemen konten artikel.\")\n",
        "else:\n",
        "    print(f\"Gagal mengakses halaman: {response.status_code}\")"
      ]
    }
  ]
}